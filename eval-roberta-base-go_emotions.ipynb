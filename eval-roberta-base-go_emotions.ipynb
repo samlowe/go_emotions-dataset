{
 "cells": [
  {
   "cell_type": "markdown",
   "metadata": {},
   "source": [
    "## Evaluating the `roberta-base-go_emotions` model"
   ]
  },
  {
   "cell_type": "markdown",
   "metadata": {},
   "source": [
    "[![Open In Colab](https://colab.research.google.com/assets/colab-badge.svg)](https://colab.research.google.com/github/samlowe/go_emotions-dataset/blob/main/eval-roberta-base-go_emotions.ipynb)"
   ]
  },
  {
   "cell_type": "markdown",
   "metadata": {},
   "source": [
    "### Init"
   ]
  },
  {
   "cell_type": "code",
   "execution_count": 2,
   "metadata": {},
   "outputs": [],
   "source": [
    "%%capture\n",
    "!pip install datasets transformers pandas matplotlib tqdm --upgrade --quiet"
   ]
  },
  {
   "cell_type": "code",
   "execution_count": 3,
   "metadata": {},
   "outputs": [],
   "source": [
    "import datasets\n",
    "from transformers import pipeline\n",
    "import numpy as np\n",
    "import pandas as pd\n",
    "import matplotlib.pyplot as plt\n",
    "from tqdm import tqdm"
   ]
  },
  {
   "cell_type": "markdown",
   "metadata": {},
   "source": [
    "### Load the dataset"
   ]
  },
  {
   "cell_type": "markdown",
   "metadata": {},
   "source": [
    "We just want the dataset test split here for evaluation"
   ]
  },
  {
   "cell_type": "code",
   "execution_count": 4,
   "metadata": {},
   "outputs": [
    {
     "data": {
      "text/plain": [
       "{'text': 'I’m really sorry about your situation :( Although I love the names Sapphira, Cirilla, and Scarlett!',\n",
       " 'labels': [25],\n",
       " 'id': 'eecwqtt'}"
      ]
     },
     "execution_count": 4,
     "metadata": {},
     "output_type": "execute_result"
    }
   ],
   "source": [
    "split_name = \"test\"\n",
    "\n",
    "dataset_name, dataset_config_name = \"go_emotions\", \"simplified\"\n",
    "dataset_dict = datasets.load_dataset(dataset_name, dataset_config_name)\n",
    "dataset_dict[split_name][0]"
   ]
  },
  {
   "cell_type": "markdown",
   "metadata": {},
   "source": [
    "The label names for some reason have not been put as features in the dataset_dict, we just have numeric indicies for labels (in an array because it is a multi-label, multi-class dataset). So we need to track them label names for each of those numeric indices down using the dataset libraries `DatasetBuilder` object - we're typically looking for a `ClassLabel` object which has a `names` properties that is an ordered list."
   ]
  },
  {
   "cell_type": "code",
   "execution_count": 5,
   "metadata": {},
   "outputs": [
    {
     "name": "stdout",
     "output_type": "stream",
     "text": [
      "{0: 'admiration', 1: 'amusement', 2: 'anger', 3: 'annoyance', 4: 'approval', 5: 'caring', 6: 'confusion', 7: 'curiosity', 8: 'desire', 9: 'disappointment', 10: 'disapproval', 11: 'disgust', 12: 'embarrassment', 13: 'excitement', 14: 'fear', 15: 'gratitude', 16: 'grief', 17: 'joy', 18: 'love', 19: 'nervousness', 20: 'optimism', 21: 'pride', 22: 'realization', 23: 'relief', 24: 'remorse', 25: 'sadness', 26: 'surprise', 27: 'neutral'}\n"
     ]
    }
   ],
   "source": [
    "builder = datasets.load_dataset_builder(dataset_name, name=dataset_config_name)\n",
    "labels = builder.info.features[\"labels\"].feature.names\n",
    "print({i: l for i, l in enumerate(labels)})"
   ]
  },
  {
   "cell_type": "markdown",
   "metadata": {},
   "source": [
    "Load into a `y_target` stucture of arrays by label (since we wish to evaluate per label for a multi-label, multi-class dataset like this)"
   ]
  },
  {
   "cell_type": "code",
   "execution_count": 6,
   "metadata": {},
   "outputs": [
    {
     "name": "stdout",
     "output_type": "stream",
     "text": [
      "[[0 0 0 0 0 0 0 0 0 0 0 0 0 0 0 0 0 0 0 0 0 0 0 0 0 1 0 0]\n",
      " [1 0 0 0 0 0 0 0 0 0 0 0 0 0 0 0 0 0 0 0 0 0 0 0 0 0 0 0]\n",
      " [0 0 0 0 0 0 0 0 0 0 0 0 0 1 0 0 0 0 0 0 0 0 0 0 0 0 0 0]]\n"
     ]
    }
   ],
   "source": [
    "num_items, num_labels = len(dataset_dict[split_name]), len(labels)\n",
    "y_targets_all = np.zeros((num_items, num_labels), dtype=int)\n",
    "for i, labels_indices in enumerate(dataset_dict[split_name][\"labels\"]):\n",
    "    for label_index in labels_indices:\n",
    "        y_targets_all[i, label_index] = 1\n",
    "\n",
    "print(y_targets_all[0:3])"
   ]
  },
  {
   "cell_type": "markdown",
   "metadata": {},
   "source": [
    "### Load the model and run it"
   ]
  },
  {
   "cell_type": "markdown",
   "metadata": {},
   "source": [
    "Loading in a multi-label, multi-class classifier model based on Roberta-base"
   ]
  },
  {
   "cell_type": "code",
   "execution_count": 7,
   "metadata": {},
   "outputs": [],
   "source": [
    "classifier = pipeline(task=\"text-classification\", model=\"SamLowe/roberta-base-go_emotions\", top_k=None)"
   ]
  },
  {
   "cell_type": "markdown",
   "metadata": {},
   "source": [
    "Very simple to then run the pipeline on the dataset test split.\n",
    "- c.5k items so can be run on a decent CPU in a few minutes (E.g. 3.5 mins on a 11th gen i7 laptop)\n",
    "- (will take signifcantly longer on a free Colab instance's 2 core CPU)\n",
    "- or of course via a GPU in seconds. "
   ]
  },
  {
   "cell_type": "code",
   "execution_count": 8,
   "metadata": {},
   "outputs": [
    {
     "name": "stdout",
     "output_type": "stream",
     "text": [
      "I’m really sorry about your situation :( Although I love the names Sapphira, Cirilla, and Scarlett!\n",
      "[{'label': 'remorse', 'score': 0.6783005595207214}, {'label': 'sadness', 'score': 0.5406174659729004}, {'label': 'love', 'score': 0.36081382632255554}, {'label': 'caring', 'score': 0.055766332894563675}, {'label': 'disappointment', 'score': 0.03692121431231499}, {'label': 'approval', 'score': 0.03364570811390877}, {'label': 'gratitude', 'score': 0.031087230890989304}, {'label': 'admiration', 'score': 0.018729276955127716}, {'label': 'grief', 'score': 0.01807975396513939}, {'label': 'optimism', 'score': 0.015967002138495445}, {'label': 'disapproval', 'score': 0.015757162123918533}, {'label': 'realization', 'score': 0.01312244962900877}, {'label': 'desire', 'score': 0.011346084997057915}, {'label': 'curiosity', 'score': 0.010657960548996925}, {'label': 'confusion', 'score': 0.010225102305412292}, {'label': 'anger', 'score': 0.008085083216428757}, {'label': 'embarrassment', 'score': 0.0074794702231884}, {'label': 'joy', 'score': 0.007231603376567364}, {'label': 'amusement', 'score': 0.007127891294658184}, {'label': 'disgust', 'score': 0.006885968614369631}, {'label': 'annoyance', 'score': 0.006822112947702408}, {'label': 'neutral', 'score': 0.006323412526398897}, {'label': 'nervousness', 'score': 0.005139764863997698}, {'label': 'relief', 'score': 0.0033562402240931988}, {'label': 'fear', 'score': 0.0032813716679811478}, {'label': 'excitement', 'score': 0.0026978987734764814}, {'label': 'surprise', 'score': 0.0021369135938584805}, {'label': 'pride', 'score': 0.0009516481077298522}]\n"
     ]
    }
   ],
   "source": [
    "model_outputs = classifier(dataset_dict[split_name][\"text\"]) \n",
    "\n",
    "print(dataset_dict[split_name][\"text\"][0])\n",
    "print(model_outputs[0])"
   ]
  },
  {
   "cell_type": "markdown",
   "metadata": {},
   "source": [
    "The model gave us floating point outputs for each label for each item, as a list of dicts. We need to arrange these into an array to be able to easily compare them with the dataset values. These values are sometimes known as probabilities (or `probas` for short) - but note, although these values are quantitative and can be compared to an extent (as we will), they are not really probabilities in any real statistical sense. \n",
    "\n",
    "We still need to convert these to binary prediction (`preds`) to be able to compare them to the `y_target` values from the dataset, but since the best threshold value to use to convert them is not yet known, we'll keep the float values."
   ]
  },
  {
   "cell_type": "code",
   "execution_count": 9,
   "metadata": {},
   "outputs": [],
   "source": [
    "y_probas_all = np.zeros((num_items, num_labels), dtype=float)\n",
    "for i, item_probas in enumerate(model_outputs):\n",
    "    for item_proba in item_probas:\n",
    "        label, score = item_proba[\"label\"], item_proba[\"score\"]\n",
    "        label_index = labels.index(label)\n",
    "        y_probas_all[i, label_index] = score"
   ]
  },
  {
   "cell_type": "code",
   "execution_count": 10,
   "metadata": {},
   "outputs": [
    {
     "name": "stdout",
     "output_type": "stream",
     "text": [
      "{'text': 'Damn, still hoping...', 'labels': [20], 'id': 'edm34qc'}\n",
      "[0.002, 0.003, 0.008, 0.022, 0.011, 0.015, 0.002, 0.002, 0.052, 0.01, 0.01, 0.002, 0.001, 0.002, 0.002, 0.005, 0.001, 0.002, 0.002, 0.001, 0.824, 0.001, 0.007, 0.001, 0.003, 0.003, 0.002, 0.157]\n",
      "Top label proba is label number 20 (optimism): 0.8238558173179626\n"
     ]
    }
   ],
   "source": [
    "i = 3856\n",
    "print(dataset_dict[split_name][i])\n",
    "print(np.round(y_probas_all[i], 3).tolist())\n",
    "top = np.argmax(y_probas_all[i])\n",
    "print(f\"Top label proba is label number {top} ({labels[top]}): {y_probas_all[i][top]}\")"
   ]
  },
  {
   "cell_type": "markdown",
   "metadata": {},
   "source": [
    "### Evalutation"
   ]
  },
  {
   "cell_type": "markdown",
   "metadata": {},
   "source": [
    "We'll use good old SKLearn for evaluation here because it's super well known and simple. You could use something else, such as Huggingface Evaluate if you prefer."
   ]
  },
  {
   "cell_type": "code",
   "execution_count": 11,
   "metadata": {},
   "outputs": [],
   "source": [
    "from sklearn import metrics"
   ]
  },
  {
   "cell_type": "markdown",
   "metadata": {},
   "source": [
    "We can see the metrics at a threshold of 0.5 (which intuitively seems like the right one to use).\n",
    "\n",
    "Should ignore accuracy because it isn't really helpful when applied per item for a multi-label dataset E.g. if there are 3 positive labels for a particular item but the model only gets 2 of them, accuracy will treat that as a 0/fail, not a partial success."
   ]
  },
  {
   "cell_type": "code",
   "execution_count": 12,
   "metadata": {},
   "outputs": [
    {
     "name": "stdout",
     "output_type": "stream",
     "text": [
      "Overall (macro)\n",
      "===============\n",
      "Accuracy: 0.474\n",
      "Precision: 0.575\n",
      "Recall: 0.396\n",
      "F1: 0.450\n"
     ]
    }
   ],
   "source": [
    "threshold = 0.5\n",
    "y_preds_all = y_probas_all > threshold\n",
    "\n",
    "print(\"Overall (macro)\")\n",
    "print(\"===============\")\n",
    "print(f\"Accuracy: {metrics.accuracy_score(y_targets_all, y_preds_all):.3f}\")\n",
    "print(f\"Precision: {metrics.precision_score(y_targets_all, y_preds_all, average='macro', zero_division=0):.3f}\")\n",
    "print(f\"Recall: {metrics.recall_score(y_targets_all, y_preds_all, average='macro', zero_division=0):.3f}\")\n",
    "print(f\"F1: {metrics.f1_score(y_targets_all, y_preds_all, average='macro', zero_division=0):.3f}\")"
   ]
  },
  {
   "cell_type": "markdown",
   "metadata": {},
   "source": [
    "And now per label (which is more meaningful for a multi-label, multiclass dataset such as this)\n",
    "\n",
    "Note the support for certain labels is tiny - grief has 6 positives in the dataset test split (out of c5.4k items). So measurement of the test set for such labels is meaningless, and anyway (given there is a similarly tiny number in the training split) unsurprisingly the model fails to predict positives for such labels since it's been trained on overwhelmling negative examples.\n",
    "\n",
    "We really should prune any labels with less than (for example) 50 positive examples in the training split (which is significantly bigger than the test split we are looking at here), or we should augment the data synthetically for these tiny/scarce labels to allow the model to learn these signals.\n",
    "\n",
    "However, they have been left in here for visibility."
   ]
  },
  {
   "cell_type": "code",
   "execution_count": 13,
   "metadata": {},
   "outputs": [],
   "source": [
    "def calc_label_metrics(label, y_targets, y_preds, threshold):\n",
    "    return {\n",
    "        \"label\": label,\n",
    "        \"accuracy\": metrics.accuracy_score(y_targets, y_preds),\n",
    "        \"precision\": metrics.precision_score(y_targets, y_preds, zero_division=0),\n",
    "        \"recall\": metrics.recall_score(y_targets, y_preds, zero_division=0),\n",
    "        \"f1\": metrics.f1_score(y_targets, y_preds, zero_division=0),\n",
    "        \"mcc\": metrics.matthews_corrcoef(y_targets, y_preds),\n",
    "        \"support\": y_targets.sum(),\n",
    "        \"threshold\": threshold,\n",
    "    }"
   ]
  },
  {
   "cell_type": "code",
   "execution_count": 14,
   "metadata": {},
   "outputs": [
    {
     "data": {
      "text/html": [
       "<div>\n",
       "<style scoped>\n",
       "    .dataframe tbody tr th:only-of-type {\n",
       "        vertical-align: middle;\n",
       "    }\n",
       "\n",
       "    .dataframe tbody tr th {\n",
       "        vertical-align: top;\n",
       "    }\n",
       "\n",
       "    .dataframe thead th {\n",
       "        text-align: right;\n",
       "    }\n",
       "</style>\n",
       "<table border=\"1\" class=\"dataframe\">\n",
       "  <thead>\n",
       "    <tr style=\"text-align: right;\">\n",
       "      <th></th>\n",
       "      <th>accuracy</th>\n",
       "      <th>precision</th>\n",
       "      <th>recall</th>\n",
       "      <th>f1</th>\n",
       "      <th>mcc</th>\n",
       "      <th>support</th>\n",
       "      <th>threshold</th>\n",
       "    </tr>\n",
       "  </thead>\n",
       "  <tbody>\n",
       "    <tr>\n",
       "      <th>admiration</th>\n",
       "      <td>0.946</td>\n",
       "      <td>0.725</td>\n",
       "      <td>0.675</td>\n",
       "      <td>0.699</td>\n",
       "      <td>0.670</td>\n",
       "      <td>504</td>\n",
       "      <td>0.5</td>\n",
       "    </tr>\n",
       "    <tr>\n",
       "      <th>amusement</th>\n",
       "      <td>0.982</td>\n",
       "      <td>0.790</td>\n",
       "      <td>0.871</td>\n",
       "      <td>0.829</td>\n",
       "      <td>0.821</td>\n",
       "      <td>264</td>\n",
       "      <td>0.5</td>\n",
       "    </tr>\n",
       "    <tr>\n",
       "      <th>anger</th>\n",
       "      <td>0.970</td>\n",
       "      <td>0.652</td>\n",
       "      <td>0.379</td>\n",
       "      <td>0.479</td>\n",
       "      <td>0.483</td>\n",
       "      <td>198</td>\n",
       "      <td>0.5</td>\n",
       "    </tr>\n",
       "    <tr>\n",
       "      <th>annoyance</th>\n",
       "      <td>0.940</td>\n",
       "      <td>0.472</td>\n",
       "      <td>0.159</td>\n",
       "      <td>0.238</td>\n",
       "      <td>0.250</td>\n",
       "      <td>320</td>\n",
       "      <td>0.5</td>\n",
       "    </tr>\n",
       "    <tr>\n",
       "      <th>approval</th>\n",
       "      <td>0.942</td>\n",
       "      <td>0.609</td>\n",
       "      <td>0.302</td>\n",
       "      <td>0.404</td>\n",
       "      <td>0.403</td>\n",
       "      <td>351</td>\n",
       "      <td>0.5</td>\n",
       "    </tr>\n",
       "    <tr>\n",
       "      <th>caring</th>\n",
       "      <td>0.973</td>\n",
       "      <td>0.448</td>\n",
       "      <td>0.319</td>\n",
       "      <td>0.372</td>\n",
       "      <td>0.364</td>\n",
       "      <td>135</td>\n",
       "      <td>0.5</td>\n",
       "    </tr>\n",
       "    <tr>\n",
       "      <th>confusion</th>\n",
       "      <td>0.972</td>\n",
       "      <td>0.500</td>\n",
       "      <td>0.431</td>\n",
       "      <td>0.463</td>\n",
       "      <td>0.450</td>\n",
       "      <td>153</td>\n",
       "      <td>0.5</td>\n",
       "    </tr>\n",
       "    <tr>\n",
       "      <th>curiosity</th>\n",
       "      <td>0.950</td>\n",
       "      <td>0.537</td>\n",
       "      <td>0.356</td>\n",
       "      <td>0.428</td>\n",
       "      <td>0.412</td>\n",
       "      <td>284</td>\n",
       "      <td>0.5</td>\n",
       "    </tr>\n",
       "    <tr>\n",
       "      <th>desire</th>\n",
       "      <td>0.987</td>\n",
       "      <td>0.630</td>\n",
       "      <td>0.410</td>\n",
       "      <td>0.496</td>\n",
       "      <td>0.502</td>\n",
       "      <td>83</td>\n",
       "      <td>0.5</td>\n",
       "    </tr>\n",
       "    <tr>\n",
       "      <th>disappointment</th>\n",
       "      <td>0.974</td>\n",
       "      <td>0.625</td>\n",
       "      <td>0.199</td>\n",
       "      <td>0.302</td>\n",
       "      <td>0.343</td>\n",
       "      <td>151</td>\n",
       "      <td>0.5</td>\n",
       "    </tr>\n",
       "    <tr>\n",
       "      <th>disapproval</th>\n",
       "      <td>0.950</td>\n",
       "      <td>0.494</td>\n",
       "      <td>0.307</td>\n",
       "      <td>0.379</td>\n",
       "      <td>0.365</td>\n",
       "      <td>267</td>\n",
       "      <td>0.5</td>\n",
       "    </tr>\n",
       "    <tr>\n",
       "      <th>disgust</th>\n",
       "      <td>0.982</td>\n",
       "      <td>0.707</td>\n",
       "      <td>0.333</td>\n",
       "      <td>0.453</td>\n",
       "      <td>0.478</td>\n",
       "      <td>123</td>\n",
       "      <td>0.5</td>\n",
       "    </tr>\n",
       "    <tr>\n",
       "      <th>embarrassment</th>\n",
       "      <td>0.994</td>\n",
       "      <td>0.750</td>\n",
       "      <td>0.243</td>\n",
       "      <td>0.367</td>\n",
       "      <td>0.425</td>\n",
       "      <td>37</td>\n",
       "      <td>0.5</td>\n",
       "    </tr>\n",
       "    <tr>\n",
       "      <th>excitement</th>\n",
       "      <td>0.983</td>\n",
       "      <td>0.603</td>\n",
       "      <td>0.340</td>\n",
       "      <td>0.435</td>\n",
       "      <td>0.445</td>\n",
       "      <td>103</td>\n",
       "      <td>0.5</td>\n",
       "    </tr>\n",
       "    <tr>\n",
       "      <th>fear</th>\n",
       "      <td>0.992</td>\n",
       "      <td>0.758</td>\n",
       "      <td>0.603</td>\n",
       "      <td>0.671</td>\n",
       "      <td>0.672</td>\n",
       "      <td>78</td>\n",
       "      <td>0.5</td>\n",
       "    </tr>\n",
       "    <tr>\n",
       "      <th>gratitude</th>\n",
       "      <td>0.990</td>\n",
       "      <td>0.960</td>\n",
       "      <td>0.881</td>\n",
       "      <td>0.919</td>\n",
       "      <td>0.914</td>\n",
       "      <td>352</td>\n",
       "      <td>0.5</td>\n",
       "    </tr>\n",
       "    <tr>\n",
       "      <th>grief</th>\n",
       "      <td>0.999</td>\n",
       "      <td>0.000</td>\n",
       "      <td>0.000</td>\n",
       "      <td>0.000</td>\n",
       "      <td>0.000</td>\n",
       "      <td>6</td>\n",
       "      <td>0.5</td>\n",
       "    </tr>\n",
       "    <tr>\n",
       "      <th>joy</th>\n",
       "      <td>0.978</td>\n",
       "      <td>0.647</td>\n",
       "      <td>0.559</td>\n",
       "      <td>0.600</td>\n",
       "      <td>0.590</td>\n",
       "      <td>161</td>\n",
       "      <td>0.5</td>\n",
       "    </tr>\n",
       "    <tr>\n",
       "      <th>love</th>\n",
       "      <td>0.982</td>\n",
       "      <td>0.773</td>\n",
       "      <td>0.832</td>\n",
       "      <td>0.802</td>\n",
       "      <td>0.793</td>\n",
       "      <td>238</td>\n",
       "      <td>0.5</td>\n",
       "    </tr>\n",
       "    <tr>\n",
       "      <th>nervousness</th>\n",
       "      <td>0.996</td>\n",
       "      <td>0.600</td>\n",
       "      <td>0.130</td>\n",
       "      <td>0.214</td>\n",
       "      <td>0.278</td>\n",
       "      <td>23</td>\n",
       "      <td>0.5</td>\n",
       "    </tr>\n",
       "    <tr>\n",
       "      <th>optimism</th>\n",
       "      <td>0.972</td>\n",
       "      <td>0.667</td>\n",
       "      <td>0.376</td>\n",
       "      <td>0.481</td>\n",
       "      <td>0.488</td>\n",
       "      <td>186</td>\n",
       "      <td>0.5</td>\n",
       "    </tr>\n",
       "    <tr>\n",
       "      <th>pride</th>\n",
       "      <td>0.997</td>\n",
       "      <td>0.000</td>\n",
       "      <td>0.000</td>\n",
       "      <td>0.000</td>\n",
       "      <td>0.000</td>\n",
       "      <td>16</td>\n",
       "      <td>0.5</td>\n",
       "    </tr>\n",
       "    <tr>\n",
       "      <th>realization</th>\n",
       "      <td>0.974</td>\n",
       "      <td>0.541</td>\n",
       "      <td>0.138</td>\n",
       "      <td>0.220</td>\n",
       "      <td>0.264</td>\n",
       "      <td>145</td>\n",
       "      <td>0.5</td>\n",
       "    </tr>\n",
       "    <tr>\n",
       "      <th>relief</th>\n",
       "      <td>0.998</td>\n",
       "      <td>0.000</td>\n",
       "      <td>0.000</td>\n",
       "      <td>0.000</td>\n",
       "      <td>0.000</td>\n",
       "      <td>11</td>\n",
       "      <td>0.5</td>\n",
       "    </tr>\n",
       "    <tr>\n",
       "      <th>remorse</th>\n",
       "      <td>0.991</td>\n",
       "      <td>0.553</td>\n",
       "      <td>0.750</td>\n",
       "      <td>0.636</td>\n",
       "      <td>0.640</td>\n",
       "      <td>56</td>\n",
       "      <td>0.5</td>\n",
       "    </tr>\n",
       "    <tr>\n",
       "      <th>sadness</th>\n",
       "      <td>0.977</td>\n",
       "      <td>0.621</td>\n",
       "      <td>0.494</td>\n",
       "      <td>0.550</td>\n",
       "      <td>0.542</td>\n",
       "      <td>156</td>\n",
       "      <td>0.5</td>\n",
       "    </tr>\n",
       "    <tr>\n",
       "      <th>surprise</th>\n",
       "      <td>0.981</td>\n",
       "      <td>0.750</td>\n",
       "      <td>0.404</td>\n",
       "      <td>0.525</td>\n",
       "      <td>0.542</td>\n",
       "      <td>141</td>\n",
       "      <td>0.5</td>\n",
       "    </tr>\n",
       "    <tr>\n",
       "      <th>neutral</th>\n",
       "      <td>0.782</td>\n",
       "      <td>0.694</td>\n",
       "      <td>0.604</td>\n",
       "      <td>0.646</td>\n",
       "      <td>0.492</td>\n",
       "      <td>1787</td>\n",
       "      <td>0.5</td>\n",
       "    </tr>\n",
       "  </tbody>\n",
       "</table>\n",
       "</div>"
      ],
      "text/plain": [
       "                accuracy  precision  recall     f1    mcc  support  threshold\n",
       "admiration         0.946      0.725   0.675  0.699  0.670      504        0.5\n",
       "amusement          0.982      0.790   0.871  0.829  0.821      264        0.5\n",
       "anger              0.970      0.652   0.379  0.479  0.483      198        0.5\n",
       "annoyance          0.940      0.472   0.159  0.238  0.250      320        0.5\n",
       "approval           0.942      0.609   0.302  0.404  0.403      351        0.5\n",
       "caring             0.973      0.448   0.319  0.372  0.364      135        0.5\n",
       "confusion          0.972      0.500   0.431  0.463  0.450      153        0.5\n",
       "curiosity          0.950      0.537   0.356  0.428  0.412      284        0.5\n",
       "desire             0.987      0.630   0.410  0.496  0.502       83        0.5\n",
       "disappointment     0.974      0.625   0.199  0.302  0.343      151        0.5\n",
       "disapproval        0.950      0.494   0.307  0.379  0.365      267        0.5\n",
       "disgust            0.982      0.707   0.333  0.453  0.478      123        0.5\n",
       "embarrassment      0.994      0.750   0.243  0.367  0.425       37        0.5\n",
       "excitement         0.983      0.603   0.340  0.435  0.445      103        0.5\n",
       "fear               0.992      0.758   0.603  0.671  0.672       78        0.5\n",
       "gratitude          0.990      0.960   0.881  0.919  0.914      352        0.5\n",
       "grief              0.999      0.000   0.000  0.000  0.000        6        0.5\n",
       "joy                0.978      0.647   0.559  0.600  0.590      161        0.5\n",
       "love               0.982      0.773   0.832  0.802  0.793      238        0.5\n",
       "nervousness        0.996      0.600   0.130  0.214  0.278       23        0.5\n",
       "optimism           0.972      0.667   0.376  0.481  0.488      186        0.5\n",
       "pride              0.997      0.000   0.000  0.000  0.000       16        0.5\n",
       "realization        0.974      0.541   0.138  0.220  0.264      145        0.5\n",
       "relief             0.998      0.000   0.000  0.000  0.000       11        0.5\n",
       "remorse            0.991      0.553   0.750  0.636  0.640       56        0.5\n",
       "sadness            0.977      0.621   0.494  0.550  0.542      156        0.5\n",
       "surprise           0.981      0.750   0.404  0.525  0.542      141        0.5\n",
       "neutral            0.782      0.694   0.604  0.646  0.492     1787        0.5"
      ]
     },
     "metadata": {},
     "output_type": "display_data"
    }
   ],
   "source": [
    "threshold = 0.5\n",
    "y_preds_all = (y_probas_all > threshold).astype(int)\n",
    "\n",
    "results = []\n",
    "for label_index, label in enumerate(labels):\n",
    "    y_targets, y_preds = y_targets_all[:, label_index], y_preds_all[:, label_index]\n",
    "    results.append(calc_label_metrics(label, y_targets, y_preds, threshold))\n",
    "\n",
    "per_label_results = pd.DataFrame(results, index=labels)\n",
    "display(per_label_results.drop(columns=[\"label\"]).round(3))"
   ]
  },
  {
   "cell_type": "markdown",
   "metadata": {},
   "source": [
    "Note, should probably ignore accuracy metric again, but in this case at the per-label level a multi-label dataset has a huge number of true negatives which make the accuracy figure pretty meaningless. E.g. in a situation where there are 10 positive items and 990 negative items, if a model simply predicts negative for everything, its accuracy figure still appears very high (0.99) even though its clearly not performing to a useful level."
   ]
  },
  {
   "cell_type": "code",
   "execution_count": 15,
   "metadata": {},
   "outputs": [
    {
     "data": {
      "image/png": "[encoded data removed]",
      "text/plain": [
       "<Figure size 1100x300 with 1 Axes>"
      ]
     },
     "metadata": {},
     "output_type": "display_data"
    }
   ],
   "source": [
    "per_label_results[\"label (support)\"] = (\n",
    "    per_label_results.index + \" (\" + per_label_results[\"support\"].astype(str) + \")\"\n",
    ")\n",
    "ax = per_label_results.sort_values(by=\"support\").plot.bar(\n",
    "    x=\"label (support)\",\n",
    "    y=[\"f1\"],\n",
    "    rot=90,\n",
    "    title=\"F1 (sorted by label support) @ 0.5 threshold\",\n",
    "    figsize=(11,3),\n",
    ")\n",
    "ax.tick_params(axis='x', which='major', labelsize=8)\n",
    "ax.axes.xaxis.label.set_text(f\"label (support, in {split_name} split)\")\n",
    "plt.show()"
   ]
  },
  {
   "cell_type": "markdown",
   "metadata": {},
   "source": [
    "We can recreate dataset-wide metrics from per-label metrics, which will prove useful later."
   ]
  },
  {
   "cell_type": "code",
   "execution_count": 16,
   "metadata": {},
   "outputs": [
    {
     "name": "stdout",
     "output_type": "stream",
     "text": [
      "Simple mean of labels: {'precision': 0.575, 'recall': 0.396, 'f1': 0.45, 'mcc': 0.451}\n",
      "Weighted average (using support): {'precision': 0.662, 'recall': 0.511, 'f1': 0.564, 'mcc': 0.519}\n"
     ]
    }
   ],
   "source": [
    "def dataset_wide_metrics(df):\n",
    "    simple_mean = {\n",
    "        m: round(df[m].mean(), 3)\n",
    "        for m in [\"precision\", \"recall\", \"f1\", \"mcc\"]\n",
    "    }\n",
    "    print(\"Simple mean of labels:\", simple_mean)\n",
    "    weighted = {\n",
    "        m: round(sum(df[m] * df[\"support\"]) / df[\"support\"].sum(), 3)\n",
    "        for m in [\"precision\", \"recall\", \"f1\", \"mcc\"]\n",
    "    }\n",
    "    print(\"Weighted average (using support):\", weighted)\n",
    "    return simple_mean, weighted\n",
    "\n",
    "_ = dataset_wide_metrics(per_label_results)"
   ]
  },
  {
   "cell_type": "markdown",
   "metadata": {},
   "source": [
    "So, now lets do a crude search for how the metrics vary by threshold, rather than naively setting it at 0.5 as above"
   ]
  },
  {
   "cell_type": "code",
   "execution_count": 17,
   "metadata": {},
   "outputs": [
    {
     "name": "stderr",
     "output_type": "stream",
     "text": [
      "100%|██████████| 19/19 [00:03<00:00,  5.37it/s]\n"
     ]
    }
   ],
   "source": [
    "threshold_results = {}\n",
    "for t in tqdm(range(5, 100, 5)):\n",
    "    threshold = t / 100\n",
    "    y_preds_all = (y_probas_all > threshold).astype(int)\n",
    "    threshold_results[threshold] = []\n",
    "    for label_index, label in enumerate(labels):\n",
    "        y_targets, y_preds = y_targets_all[:, label_index], y_preds_all[:, label_index]\n",
    "        threshold_results[threshold].append(calc_label_metrics(label, y_targets, y_preds, threshold))"
   ]
  },
  {
   "cell_type": "code",
   "execution_count": 18,
   "metadata": {},
   "outputs": [
    {
     "data": {
      "text/html": [
       "<div>\n",
       "<style scoped>\n",
       "    .dataframe tbody tr th:only-of-type {\n",
       "        vertical-align: middle;\n",
       "    }\n",
       "\n",
       "    .dataframe tbody tr th {\n",
       "        vertical-align: top;\n",
       "    }\n",
       "\n",
       "    .dataframe thead th {\n",
       "        text-align: right;\n",
       "    }\n",
       "</style>\n",
       "<table border=\"1\" class=\"dataframe\">\n",
       "  <thead>\n",
       "    <tr style=\"text-align: right;\">\n",
       "      <th></th>\n",
       "      <th>accuracy</th>\n",
       "      <th>precision</th>\n",
       "      <th>recall</th>\n",
       "      <th>f1</th>\n",
       "      <th>mcc</th>\n",
       "      <th>support</th>\n",
       "      <th>threshold</th>\n",
       "    </tr>\n",
       "  </thead>\n",
       "  <tbody>\n",
       "    <tr>\n",
       "      <th>admiration</th>\n",
       "      <td>0.940</td>\n",
       "      <td>0.651</td>\n",
       "      <td>0.776</td>\n",
       "      <td>0.708</td>\n",
       "      <td>0.678</td>\n",
       "      <td>504</td>\n",
       "      <td>0.25</td>\n",
       "    </tr>\n",
       "    <tr>\n",
       "      <th>amusement</th>\n",
       "      <td>0.982</td>\n",
       "      <td>0.781</td>\n",
       "      <td>0.890</td>\n",
       "      <td>0.832</td>\n",
       "      <td>0.825</td>\n",
       "      <td>264</td>\n",
       "      <td>0.45</td>\n",
       "    </tr>\n",
       "    <tr>\n",
       "      <th>anger</th>\n",
       "      <td>0.959</td>\n",
       "      <td>0.454</td>\n",
       "      <td>0.601</td>\n",
       "      <td>0.517</td>\n",
       "      <td>0.502</td>\n",
       "      <td>198</td>\n",
       "      <td>0.15</td>\n",
       "    </tr>\n",
       "    <tr>\n",
       "      <th>annoyance</th>\n",
       "      <td>0.864</td>\n",
       "      <td>0.243</td>\n",
       "      <td>0.619</td>\n",
       "      <td>0.349</td>\n",
       "      <td>0.328</td>\n",
       "      <td>320</td>\n",
       "      <td>0.10</td>\n",
       "    </tr>\n",
       "    <tr>\n",
       "      <th>approval</th>\n",
       "      <td>0.926</td>\n",
       "      <td>0.432</td>\n",
       "      <td>0.442</td>\n",
       "      <td>0.437</td>\n",
       "      <td>0.397</td>\n",
       "      <td>351</td>\n",
       "      <td>0.30</td>\n",
       "    </tr>\n",
       "    <tr>\n",
       "      <th>caring</th>\n",
       "      <td>0.972</td>\n",
       "      <td>0.426</td>\n",
       "      <td>0.385</td>\n",
       "      <td>0.405</td>\n",
       "      <td>0.391</td>\n",
       "      <td>135</td>\n",
       "      <td>0.40</td>\n",
       "    </tr>\n",
       "    <tr>\n",
       "      <th>confusion</th>\n",
       "      <td>0.974</td>\n",
       "      <td>0.548</td>\n",
       "      <td>0.412</td>\n",
       "      <td>0.470</td>\n",
       "      <td>0.462</td>\n",
       "      <td>153</td>\n",
       "      <td>0.55</td>\n",
       "    </tr>\n",
       "    <tr>\n",
       "      <th>curiosity</th>\n",
       "      <td>0.943</td>\n",
       "      <td>0.473</td>\n",
       "      <td>0.711</td>\n",
       "      <td>0.568</td>\n",
       "      <td>0.552</td>\n",
       "      <td>284</td>\n",
       "      <td>0.25</td>\n",
       "    </tr>\n",
       "    <tr>\n",
       "      <th>desire</th>\n",
       "      <td>0.985</td>\n",
       "      <td>0.518</td>\n",
       "      <td>0.530</td>\n",
       "      <td>0.524</td>\n",
       "      <td>0.516</td>\n",
       "      <td>83</td>\n",
       "      <td>0.25</td>\n",
       "    </tr>\n",
       "    <tr>\n",
       "      <th>disappointment</th>\n",
       "      <td>0.974</td>\n",
       "      <td>0.562</td>\n",
       "      <td>0.298</td>\n",
       "      <td>0.390</td>\n",
       "      <td>0.398</td>\n",
       "      <td>151</td>\n",
       "      <td>0.40</td>\n",
       "    </tr>\n",
       "    <tr>\n",
       "      <th>disapproval</th>\n",
       "      <td>0.941</td>\n",
       "      <td>0.414</td>\n",
       "      <td>0.468</td>\n",
       "      <td>0.439</td>\n",
       "      <td>0.409</td>\n",
       "      <td>267</td>\n",
       "      <td>0.30</td>\n",
       "    </tr>\n",
       "    <tr>\n",
       "      <th>disgust</th>\n",
       "      <td>0.978</td>\n",
       "      <td>0.523</td>\n",
       "      <td>0.463</td>\n",
       "      <td>0.491</td>\n",
       "      <td>0.481</td>\n",
       "      <td>123</td>\n",
       "      <td>0.20</td>\n",
       "    </tr>\n",
       "    <tr>\n",
       "      <th>embarrassment</th>\n",
       "      <td>0.994</td>\n",
       "      <td>0.567</td>\n",
       "      <td>0.459</td>\n",
       "      <td>0.507</td>\n",
       "      <td>0.507</td>\n",
       "      <td>37</td>\n",
       "      <td>0.10</td>\n",
       "    </tr>\n",
       "    <tr>\n",
       "      <th>excitement</th>\n",
       "      <td>0.981</td>\n",
       "      <td>0.500</td>\n",
       "      <td>0.417</td>\n",
       "      <td>0.455</td>\n",
       "      <td>0.447</td>\n",
       "      <td>103</td>\n",
       "      <td>0.35</td>\n",
       "    </tr>\n",
       "    <tr>\n",
       "      <th>fear</th>\n",
       "      <td>0.991</td>\n",
       "      <td>0.712</td>\n",
       "      <td>0.667</td>\n",
       "      <td>0.689</td>\n",
       "      <td>0.685</td>\n",
       "      <td>78</td>\n",
       "      <td>0.40</td>\n",
       "    </tr>\n",
       "    <tr>\n",
       "      <th>gratitude</th>\n",
       "      <td>0.990</td>\n",
       "      <td>0.957</td>\n",
       "      <td>0.889</td>\n",
       "      <td>0.922</td>\n",
       "      <td>0.917</td>\n",
       "      <td>352</td>\n",
       "      <td>0.45</td>\n",
       "    </tr>\n",
       "    <tr>\n",
       "      <th>grief</th>\n",
       "      <td>0.999</td>\n",
       "      <td>0.333</td>\n",
       "      <td>0.333</td>\n",
       "      <td>0.333</td>\n",
       "      <td>0.333</td>\n",
       "      <td>6</td>\n",
       "      <td>0.05</td>\n",
       "    </tr>\n",
       "    <tr>\n",
       "      <th>joy</th>\n",
       "      <td>0.978</td>\n",
       "      <td>0.623</td>\n",
       "      <td>0.646</td>\n",
       "      <td>0.634</td>\n",
       "      <td>0.623</td>\n",
       "      <td>161</td>\n",
       "      <td>0.40</td>\n",
       "    </tr>\n",
       "    <tr>\n",
       "      <th>love</th>\n",
       "      <td>0.982</td>\n",
       "      <td>0.740</td>\n",
       "      <td>0.899</td>\n",
       "      <td>0.812</td>\n",
       "      <td>0.807</td>\n",
       "      <td>238</td>\n",
       "      <td>0.25</td>\n",
       "    </tr>\n",
       "    <tr>\n",
       "      <th>nervousness</th>\n",
       "      <td>0.996</td>\n",
       "      <td>0.571</td>\n",
       "      <td>0.348</td>\n",
       "      <td>0.432</td>\n",
       "      <td>0.444</td>\n",
       "      <td>23</td>\n",
       "      <td>0.25</td>\n",
       "    </tr>\n",
       "    <tr>\n",
       "      <th>optimism</th>\n",
       "      <td>0.971</td>\n",
       "      <td>0.580</td>\n",
       "      <td>0.565</td>\n",
       "      <td>0.572</td>\n",
       "      <td>0.557</td>\n",
       "      <td>186</td>\n",
       "      <td>0.20</td>\n",
       "    </tr>\n",
       "    <tr>\n",
       "      <th>pride</th>\n",
       "      <td>0.998</td>\n",
       "      <td>0.875</td>\n",
       "      <td>0.438</td>\n",
       "      <td>0.583</td>\n",
       "      <td>0.618</td>\n",
       "      <td>16</td>\n",
       "      <td>0.10</td>\n",
       "    </tr>\n",
       "    <tr>\n",
       "      <th>realization</th>\n",
       "      <td>0.961</td>\n",
       "      <td>0.270</td>\n",
       "      <td>0.262</td>\n",
       "      <td>0.266</td>\n",
       "      <td>0.246</td>\n",
       "      <td>145</td>\n",
       "      <td>0.15</td>\n",
       "    </tr>\n",
       "    <tr>\n",
       "      <th>relief</th>\n",
       "      <td>0.992</td>\n",
       "      <td>0.152</td>\n",
       "      <td>0.636</td>\n",
       "      <td>0.246</td>\n",
       "      <td>0.309</td>\n",
       "      <td>11</td>\n",
       "      <td>0.05</td>\n",
       "    </tr>\n",
       "    <tr>\n",
       "      <th>remorse</th>\n",
       "      <td>0.991</td>\n",
       "      <td>0.541</td>\n",
       "      <td>0.946</td>\n",
       "      <td>0.688</td>\n",
       "      <td>0.712</td>\n",
       "      <td>56</td>\n",
       "      <td>0.10</td>\n",
       "    </tr>\n",
       "    <tr>\n",
       "      <th>sadness</th>\n",
       "      <td>0.977</td>\n",
       "      <td>0.599</td>\n",
       "      <td>0.583</td>\n",
       "      <td>0.591</td>\n",
       "      <td>0.579</td>\n",
       "      <td>156</td>\n",
       "      <td>0.40</td>\n",
       "    </tr>\n",
       "    <tr>\n",
       "      <th>surprise</th>\n",
       "      <td>0.977</td>\n",
       "      <td>0.543</td>\n",
       "      <td>0.674</td>\n",
       "      <td>0.601</td>\n",
       "      <td>0.593</td>\n",
       "      <td>141</td>\n",
       "      <td>0.15</td>\n",
       "    </tr>\n",
       "    <tr>\n",
       "      <th>neutral</th>\n",
       "      <td>0.758</td>\n",
       "      <td>0.598</td>\n",
       "      <td>0.810</td>\n",
       "      <td>0.688</td>\n",
       "      <td>0.513</td>\n",
       "      <td>1787</td>\n",
       "      <td>0.25</td>\n",
       "    </tr>\n",
       "  </tbody>\n",
       "</table>\n",
       "</div>"
      ],
      "text/plain": [
       "                accuracy  precision  recall     f1    mcc  support  threshold\n",
       "admiration         0.940      0.651   0.776  0.708  0.678      504       0.25\n",
       "amusement          0.982      0.781   0.890  0.832  0.825      264       0.45\n",
       "anger              0.959      0.454   0.601  0.517  0.502      198       0.15\n",
       "annoyance          0.864      0.243   0.619  0.349  0.328      320       0.10\n",
       "approval           0.926      0.432   0.442  0.437  0.397      351       0.30\n",
       "caring             0.972      0.426   0.385  0.405  0.391      135       0.40\n",
       "confusion          0.974      0.548   0.412  0.470  0.462      153       0.55\n",
       "curiosity          0.943      0.473   0.711  0.568  0.552      284       0.25\n",
       "desire             0.985      0.518   0.530  0.524  0.516       83       0.25\n",
       "disappointment     0.974      0.562   0.298  0.390  0.398      151       0.40\n",
       "disapproval        0.941      0.414   0.468  0.439  0.409      267       0.30\n",
       "disgust            0.978      0.523   0.463  0.491  0.481      123       0.20\n",
       "embarrassment      0.994      0.567   0.459  0.507  0.507       37       0.10\n",
       "excitement         0.981      0.500   0.417  0.455  0.447      103       0.35\n",
       "fear               0.991      0.712   0.667  0.689  0.685       78       0.40\n",
       "gratitude          0.990      0.957   0.889  0.922  0.917      352       0.45\n",
       "grief              0.999      0.333   0.333  0.333  0.333        6       0.05\n",
       "joy                0.978      0.623   0.646  0.634  0.623      161       0.40\n",
       "love               0.982      0.740   0.899  0.812  0.807      238       0.25\n",
       "nervousness        0.996      0.571   0.348  0.432  0.444       23       0.25\n",
       "optimism           0.971      0.580   0.565  0.572  0.557      186       0.20\n",
       "pride              0.998      0.875   0.438  0.583  0.618       16       0.10\n",
       "realization        0.961      0.270   0.262  0.266  0.246      145       0.15\n",
       "relief             0.992      0.152   0.636  0.246  0.309       11       0.05\n",
       "remorse            0.991      0.541   0.946  0.688  0.712       56       0.10\n",
       "sadness            0.977      0.599   0.583  0.591  0.579      156       0.40\n",
       "surprise           0.977      0.543   0.674  0.601  0.593      141       0.15\n",
       "neutral            0.758      0.598   0.810  0.688  0.513     1787       0.25"
      ]
     },
     "metadata": {},
     "output_type": "display_data"
    }
   ],
   "source": [
    "metric_name = \"f1\"\n",
    "best = {label: {metric_name: -1, \"result\": None} for label in labels}\n",
    "for threshold, results in threshold_results.items():\n",
    "    for result in results:\n",
    "        label = result[\"label\"]\n",
    "        if result[metric_name] > best[label][metric_name]:\n",
    "            best[label] = {metric_name: result[metric_name], \"result\": result}\n",
    "\n",
    "results = [b[\"result\"] for b in best.values()]\n",
    "per_label_threshold_results = pd.DataFrame(results, index=[result[\"label\"] for result in results])\n",
    "display(per_label_threshold_results.drop(columns=[\"label\"]).round(3))"
   ]
  },
  {
   "cell_type": "markdown",
   "metadata": {},
   "source": [
    "Charting it"
   ]
  },
  {
   "cell_type": "code",
   "execution_count": 19,
   "metadata": {},
   "outputs": [
    {
     "data": {
      "image/png": "[encoded data removed]",
      "text/plain": [
       "<Figure size 1100x300 with 1 Axes>"
      ]
     },
     "metadata": {},
     "output_type": "display_data"
    }
   ],
   "source": [
    "per_label_threshold_results[\"label (support)\"] = (\n",
    "    per_label_threshold_results[\"label\"] + \" (\" + per_label_threshold_results[\"support\"].astype(str) + \")\"\n",
    ")\n",
    "ax = per_label_threshold_results.sort_values(by=\"support\").plot.bar(\n",
    "    x='label (support)',\n",
    "    y=[\"f1\", \"threshold\"],\n",
    "    rot=90,\n",
    "    title=\"F1 (sorted by label support) @ threshold for max f1\",\n",
    "    width=0.7,\n",
    "    figsize=(11,3),\n",
    ")\n",
    "ax.tick_params(axis='x', which='major', labelsize=8)\n",
    "ax.axes.xaxis.label.set_text(f\"label (support, in {split_name} split)\")\n",
    "plt.show()"
   ]
  },
  {
   "cell_type": "markdown",
   "metadata": {},
   "source": [
    "Note how the best performing threshold (when measured by maximizing f1) is always a lower threshold than the 0.5 assumed before. This is likely because there are so mny true negatives in the dataset (as is often the case with multi-label, multi-class datasets).\n",
    "\n",
    "As you'd expect precision takes a dip vs before as the model is predicting positive more often, but to a lesser degree than recall climbs, causing F1 to overall increase (since F1 is the harmonic mean of precision and recall).\n",
    "\n",
    "The most extreme examples being the labels with the smallest support (e.g. grief) where the smallest threshold tried (0.05) is the one that cajoles the model into finally giving some positives and hence getting valid precision and recall scores that can't do if they never predict positive.\n",
    "\n",
    "Various techniques could be used to increase the probas so these low thresholds were not the best, such as boosting/duplicating the true positives in the training set, data augmentation, or a linear layer to boost the proba output, but simply using a label-bespoke threshold here gives us a view of the perf of the model as it is. "
   ]
  },
  {
   "cell_type": "code",
   "execution_count": 20,
   "metadata": {},
   "outputs": [
    {
     "data": {
      "image/png": "[encoded data removed]",
      "text/plain": [
       "<Figure size 700x300 with 1 Axes>"
      ]
     },
     "metadata": {},
     "output_type": "display_data"
    }
   ],
   "source": [
    "_label_name = \"anger\"\n",
    "label_per_threshold_results = []\n",
    "for threshold, results in threshold_results.items():\n",
    "    for result in results:\n",
    "        if result[\"label\"] == _label_name:\n",
    "            label_per_threshold_results.append(result)\n",
    "\n",
    "label_per_threshold_results = pd.DataFrame(\n",
    "    label_per_threshold_results, index=[r[\"threshold\"] for r in label_per_threshold_results]\n",
    ")\n",
    "ax = label_per_threshold_results.plot.line(\n",
    "    x=\"threshold\", y=[\"precision\", \"recall\", \"f1\"], rot=90, title=_label_name, figsize=(7,3)\n",
    ")\n",
    "ax.axvline(0.5, color='gray', linestyle='--')\n",
    "ax.axhline(label_per_threshold_results[\"f1\"].max(), color=\"gray\", linestyle=\"--\")\n",
    "ax.xaxis.set_ticks(np.arange(0, 1, 0.05))\n",
    "plt.show()"
   ]
  },
  {
   "cell_type": "code",
   "execution_count": 21,
   "metadata": {},
   "outputs": [
    {
     "name": "stdout",
     "output_type": "stream",
     "text": [
      "### Threshold set to arbitary 0.5\n",
      "Simple mean of labels: {'precision': 0.575, 'recall': 0.396, 'f1': 0.45, 'mcc': 0.451}\n",
      "Weighted average (using support): {'precision': 0.662, 'recall': 0.511, 'f1': 0.564, 'mcc': 0.519}\n",
      "\n",
      "### Threshold from per label search (for best F1 score)\n",
      "Simple mean of labels: {'precision': 0.542, 'recall': 0.577, 'f1': 0.541, 'mcc': 0.53}\n",
      "Weighted average (using support): {'precision': 0.572, 'recall': 0.677, 'f1': 0.611, 'mcc': 0.55}\n",
      "\n",
      "F1 (simple mean) improved by 20.2%\n",
      "F1 (weighted) improved by 10.4%\n"
     ]
    }
   ],
   "source": [
    "print(\"### Threshold set to arbitary 0.5\")\n",
    "_before = dataset_wide_metrics(per_label_results)\n",
    "print()\n",
    "print(\"### Threshold from per label search (for best F1 score)\")\n",
    "_after = dataset_wide_metrics(per_label_threshold_results)\n",
    "\n",
    "print()\n",
    "percentage = (_after[0][\"f1\"] - _before[0][\"f1\"]) / _before[0][\"f1\"] * 100\n",
    "print(f\"F1 (simple mean) improved by {round(percentage, 1)}%\")\n",
    "percentage = (_after[1][\"f1\"] - _before[1][\"f1\"]) / _before[0][\"f1\"] * 100\n",
    "print(f\"F1 (weighted) improved by {round(percentage, 1)}%\")"
   ]
  },
  {
   "cell_type": "markdown",
   "metadata": {},
   "source": [
    "### Dataset constraints on the model performance"
   ]
  },
  {
   "cell_type": "markdown",
   "metadata": {},
   "source": [
    "Some labels (E.g. gratitude) when considered independently perform very strongly with F1 around 0.9, whilst others (E.g. relief) perform very poorly. \n",
    "\n",
    "This is a challenging dataset. Labels such as relief do have much fewer examples in the training data (less than 100 out of the 40k+, and only 11 in the test split).\n",
    "\n",
    "But there is also some ambiguity and/or labelling errors visible in the training data of go_emotions that is suspected to constrain the performance. Data cleaning on the dataset to reduce some of the mistakes, ambiguity, conflicts and duplication in the labelling would produce a higher performing model."
   ]
  }
 ],
 "metadata": {
  "kernelspec": {
   "display_name": "Python 3",
   "language": "python",
   "name": "python3"
  },
  "language_info": {
   "codemirror_mode": {
    "name": "ipython",
    "version": 3
   },
   "file_extension": ".py",
   "mimetype": "text/x-python",
   "name": "python",
   "nbconvert_exporter": "python",
   "pygments_lexer": "ipython3",
   "version": "3.10.13"
  },
  "orig_nbformat": 4
 },
 "nbformat": 4,
 "nbformat_minor": 2
}
